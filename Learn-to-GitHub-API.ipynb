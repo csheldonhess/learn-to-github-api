{
 "metadata": {
  "name": "",
  "signature": "sha256:fe049d8220b188fe1dec7273e8a1e442a1356018e290f9557031fb356fd6b67b"
 },
 "nbformat": 3,
 "nbformat_minor": 0,
 "worksheets": [
  {
   "cells": [
    {
     "cell_type": "markdown",
     "metadata": {},
     "source": [
      "# Using GitHub's API via github3 in Python\n",
      "\n",
      "Here is some example code to help you understand how the github3 library works. (I wrote it to help *me* understand how the github3 library works. I hope it helps you!)"
     ]
    },
    {
     "cell_type": "markdown",
     "metadata": {},
     "source": [
      "## First, a nice function to show only the public methods available to an object \n",
      "(kind of like dir(), but nicer, in that it removes functions with double-underscores - you don't have to care about the details of this)"
     ]
    },
    {
     "cell_type": "code",
     "collapsed": false,
     "input": [
      "\n",
      "# public() is from here: http://nbviewer.ipython.org/gist/jiffyclub/9235955 \n",
      "def public(thing):\n",
      "    \"\"\"Print 'public' attributes of thing.\"\"\"    \n",
      "    for x in dir(thing):\n",
      "        if not x.startswith('_'):\n",
      "            print(x)\n",
      "            "
     ],
     "language": "python",
     "metadata": {},
     "outputs": [],
     "prompt_number": 122
    },
    {
     "cell_type": "markdown",
     "metadata": {},
     "source": [
      "## Set your variables and authenticate\n",
      "You know everything went OK if you see the message \"Access granted\" after running this."
     ]
    },
    {
     "cell_type": "code",
     "collapsed": false,
     "input": [
      "\n",
      "import github3\n",
      "            \n",
      "# fill in your GitHub username and your preferred repository name:\n",
      "my_username = ''\n",
      "my_repo_name = ''\n",
      "\n",
      "# generate a token for yourself in GitHub; paste it in below    \n",
      "g = github3.login(token='')\n",
      "\n",
      "if g:\n",
      "    print('Access granted.')\n",
      "    "
     ],
     "language": "python",
     "metadata": {},
     "outputs": [
      {
       "output_type": "stream",
       "stream": "stdout",
       "text": [
        "Access granted.\n"
       ]
      }
     ],
     "prompt_number": 123
    },
    {
     "cell_type": "code",
     "collapsed": false,
     "input": [
      "\n",
      "# What have we just wrought?\n",
      "\n",
      "############## return value ######################\n",
      "# github3.login() returns: <GitHub at 0x104a2e910>\n",
      "##################################################\n",
      "\n",
      "# So that's a GitHub object.\n",
      "\n",
      "if g:\n",
      "    print('What can be done with a GitHub object:')\n",
      "    print('=====================================')\n",
      "    public(g)\n",
      "    "
     ],
     "language": "python",
     "metadata": {},
     "outputs": [
      {
       "output_type": "stream",
       "stream": "stdout",
       "text": [
        "What can be done with a GitHub object:\n",
        "=====================================\n",
        "authorization\n",
        "authorize\n",
        "check_authorization\n",
        "create_gist\n",
        "create_issue\n",
        "create_key\n",
        "create_repo\n",
        "delete_key\n",
        "emojis\n",
        "etag\n",
        "feeds\n",
        "follow\n",
        "from_json\n",
        "gist\n",
        "gitignore_template\n",
        "gitignore_templates\n",
        "is_following\n",
        "is_starred\n",
        "is_subscribed\n",
        "issue\n",
        "iter_all_repos\n",
        "iter_all_users\n",
        "iter_authorizations\n",
        "iter_emails\n",
        "iter_events\n",
        "iter_followers\n",
        "iter_following\n",
        "iter_gists\n",
        "iter_issues\n",
        "iter_keys\n",
        "iter_notifications\n",
        "iter_org_issues\n",
        "iter_orgs\n",
        "iter_repo_issues\n",
        "iter_repos\n",
        "iter_starred\n",
        "iter_subscriptions\n",
        "iter_user_issues\n",
        "iter_user_repos\n",
        "iter_user_teams\n",
        "key\n",
        "last_modified\n",
        "login\n",
        "markdown\n",
        "membership_in\n",
        "meta\n",
        "octocat\n",
        "organization\n",
        "organization_memberships\n",
        "pubsubhubbub\n",
        "pull_request\n",
        "rate_limit\n",
        "ratelimit_remaining\n",
        "refresh\n",
        "repository\n",
        "revoke_authorization\n",
        "revoke_authorizations\n",
        "search_code\n",
        "search_issues\n",
        "search_repositories\n",
        "search_users\n",
        "set_client_id\n",
        "set_user_agent\n",
        "star\n",
        "subscribe\n",
        "to_json\n",
        "unfollow\n",
        "unstar\n",
        "unsubscribe\n",
        "update_user\n",
        "user\n",
        "zen\n"
       ]
      }
     ],
     "prompt_number": 124
    },
    {
     "cell_type": "markdown",
     "metadata": {},
     "source": [
      "## Now we're going to make a repository!\n",
      "This will make an actual repository in your actual account on GitHub. So... You know, here's where it gets real."
     ]
    },
    {
     "cell_type": "code",
     "collapsed": false,
     "input": [
      "\n",
      "# Create the repository\n",
      "repo_dict = {'name': my_repo_name, \n",
      "        'description': 'I made this repo with an API!', \n",
      "        'homepage': '', \n",
      "        'private': False, \n",
      "        'has_issues': True,\n",
      "        'has_wiki': True, \n",
      "        'has_downloads': False }\n",
      "\n",
      "repo = None\n",
      "\n",
      "# pop is really cool!\n",
      "# it grabs the value matching the provided key and removes it from the dictionary\n",
      "if repo_dict.get('name'):\n",
      "    repo = g.create_repo(repo_dict.pop('name'), **repo_dict)\n",
      "\n",
      "if repo:\n",
      "    print('Repo created!')\n",
      "    "
     ],
     "language": "python",
     "metadata": {},
     "outputs": [
      {
       "output_type": "stream",
       "stream": "stdout",
       "text": [
        "Repo created!\n"
       ]
      }
     ],
     "prompt_number": 125
    },
    {
     "cell_type": "code",
     "collapsed": false,
     "input": [
      "\n",
      "# What did we make this time?\n",
      "\n",
      "############## return value #####################\n",
      "# GitHub.create_repo() returns an object of type: \n",
      "#       <class 'github3.repos.repo.Repository'>\n",
      "# print(repo) displays: my_username/my_repo_name\n",
      "#################################################\n",
      "\n",
      "# So that's a Repository object.\n",
      "\n",
      "if repo:\n",
      "    print('What can be done with a Repository object:')\n",
      "    print('=========================================')\n",
      "    public(repo)\n",
      "    "
     ],
     "language": "python",
     "metadata": {},
     "outputs": [
      {
       "output_type": "stream",
       "stream": "stdout",
       "text": [
        "What can be done with a Repository object:\n",
        "=========================================\n",
        "add_collaborator\n",
        "archive\n",
        "archive_urlt\n",
        "asset\n",
        "assignees_urlt\n",
        "blob\n",
        "blobs_urlt\n",
        "branch\n",
        "branches_urlt\n",
        "clone_url\n",
        "comments_urlt\n",
        "commit\n",
        "commit_comment\n",
        "commits_urlt\n",
        "compare_commits\n",
        "compare_urlt\n",
        "contents\n",
        "contents_urlt\n",
        "contributors_url\n",
        "create_blob\n",
        "create_comment\n",
        "create_commit\n",
        "create_deployment\n",
        "create_file\n",
        "create_fork\n",
        "create_hook\n",
        "create_issue\n",
        "create_key\n",
        "create_label\n",
        "create_milestone\n",
        "create_pull\n",
        "create_pull_from_issue\n",
        "create_ref\n",
        "create_release\n",
        "create_status\n",
        "create_tag\n",
        "create_tree\n",
        "created_at\n",
        "default_branch\n",
        "delete\n",
        "delete_file\n",
        "delete_key\n",
        "delete_subscription\n",
        "description\n",
        "download_url\n",
        "edit\n",
        "etag\n",
        "events_url\n",
        "fork\n",
        "fork_count\n",
        "forks\n",
        "forks_count\n",
        "from_json\n",
        "full_name\n",
        "git_commit\n",
        "git_commits_urlt\n",
        "git_refs_urlt\n",
        "git_tags_urlt\n",
        "git_url\n",
        "has_downloads\n",
        "has_issues\n",
        "has_wiki\n",
        "homepage\n",
        "hook\n",
        "hooks_url\n",
        "html_url\n",
        "id\n",
        "is_assignee\n",
        "is_collaborator\n",
        "issue\n",
        "issue_comment_urlt\n",
        "issue_events_urlt\n",
        "issues_urlt\n",
        "iter_assignees\n",
        "iter_branches\n",
        "iter_code_frequency\n",
        "iter_collaborators\n",
        "iter_comments\n",
        "iter_comments_on_commit\n",
        "iter_commit_activity\n",
        "iter_commits\n",
        "iter_contributor_statistics\n",
        "iter_contributors\n",
        "iter_deployments\n",
        "iter_events\n",
        "iter_forks\n",
        "iter_hooks\n",
        "iter_issue_events\n",
        "iter_issues\n",
        "iter_keys\n",
        "iter_labels\n",
        "iter_languages\n",
        "iter_milestones\n",
        "iter_network_events\n",
        "iter_notifications\n",
        "iter_pages_builds\n",
        "iter_pulls\n",
        "iter_refs\n",
        "iter_releases\n",
        "iter_stargazers\n",
        "iter_statuses\n",
        "iter_subscribers\n",
        "iter_tags\n",
        "iter_teams\n",
        "key\n",
        "label\n",
        "labels_urlt\n",
        "language\n",
        "languages_url\n",
        "last_modified\n",
        "latest_pages_build\n",
        "mark_notifications\n",
        "master_branch\n",
        "merge\n",
        "merges_url\n",
        "milestone\n",
        "milestones_urlt\n",
        "mirror_url\n",
        "name\n",
        "notifications_urlt\n",
        "open_issues\n",
        "open_issues_count\n",
        "owner\n",
        "pages\n",
        "parent\n",
        "private\n",
        "pull_request\n",
        "pulls_urlt\n",
        "pushed_at\n",
        "ratelimit_remaining\n",
        "readme\n",
        "ref\n",
        "refresh\n",
        "release\n",
        "remove_collaborator\n",
        "set_subscription\n",
        "size\n",
        "source\n",
        "ssh_url\n",
        "stargazers\n",
        "stargazers_url\n",
        "statuses_urlt\n",
        "subscribers_url\n",
        "subscription\n",
        "subscription_url\n",
        "svn_url\n",
        "tag\n",
        "tags_url\n",
        "teams_url\n",
        "to_json\n",
        "tree\n",
        "trees_urlt\n",
        "update_file\n",
        "update_label\n",
        "updated_at\n",
        "watchers\n",
        "weekly_commit_count\n"
       ]
      }
     ],
     "prompt_number": 126
    },
    {
     "cell_type": "code",
     "collapsed": false,
     "input": [
      "\n",
      "# You can retrieve a repository if, for instance, you didn't just create one\n",
      "r = g.repository(my_username, my_repo_name)\n",
      "\n",
      "if r:\n",
      "    print('Repository {0} is saved as \"r\".\\n'.format(r.name))\n",
      "    \n",
      "if r == repo:\n",
      "    print('This step was unnecessary; we already had our repository in a variable.')\n",
      "    "
     ],
     "language": "python",
     "metadata": {},
     "outputs": [
      {
       "output_type": "stream",
       "stream": "stdout",
       "text": [
        "Repository api-test is saved as \"r\".\n",
        "\n",
        "This step was unnecessary; we already had our repository in a variable.\n"
       ]
      }
     ],
     "prompt_number": 127
    },
    {
     "cell_type": "markdown",
     "metadata": {},
     "source": [
      "## Add files to the repository\n",
      "Two files - a README (because good manners) and something called 'file.md.'"
     ]
    },
    {
     "cell_type": "code",
     "collapsed": false,
     "input": [
      "\n",
      "# Now we're going to add two files, README.md and file.md\n",
      "\n",
      "# Here's the content we want to put inside the files (replace, if you want!)\n",
      "contents = 'API Test\\n======\\n\\nThis is the README for api-test. It was added via api.'\n",
      "contents2 = 'This is the text of a file. It was added via api.'\n",
      "\n",
      "# This is the message that will show up in the commit \n",
      "commit_message = 'This was added via API, woo!'\n",
      "\n",
      "create = r.create_file('README.md', commit_message, contents)\n",
      "create2 = r.create_file('file.md', commit_message, contents2)\n",
      "\n",
      "if create and create2:\n",
      "    print('The files were both created!')\n"
     ],
     "language": "python",
     "metadata": {},
     "outputs": [
      {
       "output_type": "stream",
       "stream": "stdout",
       "text": [
        "The files were both created!\n"
       ]
      }
     ],
     "prompt_number": 128
    },
    {
     "cell_type": "code",
     "collapsed": false,
     "input": [
      "# And now what have we done?\n",
      "\n",
      "############## return value ###############################################\n",
      "# Repository.create_file() returns:\n",
      "# {\n",
      "# u'content': <Content [README.md]>, \n",
      "# u'commit': <Commit [Your Name:00fca0f40d69166ab01bcd123a0569f463a4e335]>, \n",
      "# u'ETag': '\"5b78bfcf6cf345d6c950d462630850c6\"', \n",
      "# u'Last-Modified': u''\n",
      "# }\n",
      "###########################################################################\n",
      "\n",
      "# So that's a dict object (yeah, plain old Python dicts, go figure)\n",
      "\n",
      "# But notice it has a Content object in it and a Commit object in it\n",
      "\n",
      "# We'll get to Content objects in a moment, but here's the skinny on a Commit object\n",
      "\n",
      "if create:\n",
      "    print('What can be done with a Commit object:')\n",
      "    print('=====================================')    \n",
      "    public(create['commit'])\n"
     ],
     "language": "python",
     "metadata": {},
     "outputs": [
      {
       "output_type": "stream",
       "stream": "stdout",
       "text": [
        "What can be done with a Commit object:\n",
        "=====================================\n",
        "author\n",
        "author_as_User\n",
        "committer\n",
        "committer_as_User\n",
        "etag\n",
        "from_json\n",
        "html_url\n",
        "last_modified\n",
        "message\n",
        "parents\n",
        "ratelimit_remaining\n",
        "refresh\n",
        "sha\n",
        "to_json\n",
        "tree\n"
       ]
      }
     ],
     "prompt_number": 129
    },
    {
     "cell_type": "markdown",
     "metadata": {},
     "source": [
      "## Now update one of the files\n",
      "We'll be updating file.md."
     ]
    },
    {
     "cell_type": "code",
     "collapsed": false,
     "input": [
      "\n",
      "# This is going to look like a digression, but it's relevant\n",
      "\n",
      "# Let's look at the contents of the repository\n",
      "all_the_files = r.contents('/')\n",
      "\n",
      "print('You have the following files in your repository: ')\n",
      "print(all_the_files)\n",
      "\n",
      "# Get just one of the files, because we're going to update it\n",
      "file_to_update = r.contents('file.md')\n"
     ],
     "language": "python",
     "metadata": {},
     "outputs": [
      {
       "output_type": "stream",
       "stream": "stdout",
       "text": [
        "You have the following files in your repository: \n",
        "{u'file.md': <Content [file.md]>, u'README.md': <Content [README.md]>}\n"
       ]
      }
     ],
     "prompt_number": 130
    },
    {
     "cell_type": "code",
     "collapsed": false,
     "input": [
      "\n",
      "# And now?\n",
      "\n",
      "############## return value ####################\n",
      "# Repository.contents('filename') returns:\n",
      "#     <class 'github3.repos.contents.Contents'>\n",
      "# Printing file_to_update displays:\n",
      "#     <Content [file.md]>\n",
      "################################################\n",
      "\n",
      "# So, that's a Content object\n",
      "\n",
      "if file_to_update:\n",
      "    print('What can be done with a Content object:')\n",
      "    print('======================================')\n",
      "    public(file_to_update)\n",
      "    "
     ],
     "language": "python",
     "metadata": {},
     "outputs": [
      {
       "output_type": "stream",
       "stream": "stdout",
       "text": [
        "What can be done with a Content object:\n",
        "======================================\n",
        "content\n",
        "decoded\n",
        "delete\n",
        "encoding\n",
        "etag\n",
        "from_json\n",
        "git_url\n",
        "html_url\n",
        "last_modified\n",
        "links\n",
        "name\n",
        "path\n",
        "ratelimit_remaining\n",
        "refresh\n",
        "sha\n",
        "size\n",
        "submodule_git_url\n",
        "target\n",
        "to_json\n",
        "type\n",
        "update\n"
       ]
      }
     ],
     "prompt_number": 131
    },
    {
     "cell_type": "code",
     "collapsed": false,
     "input": [
      "\n",
      "# Here's the text of the update we want to make\n",
      "update = 'This file was updated via the api.'\n",
      "\n",
      "# Here's why we needed to grab that file; we needed its SHA\n",
      "# A SHA is a checksum, and you could go read a lot about it...\n",
      "# BUT if you don't care, it's basically what GitHub uses as the ID of a file\n",
      "# or of a commit\n",
      "# or of a tree\n",
      "the_sha = file_to_update.sha\n",
      "\n",
      "commit_message = 'Update made via API'\n",
      "\n",
      "update_return = r.update_file('file.md', commit_message, update, the_sha)\n"
     ],
     "language": "python",
     "metadata": {},
     "outputs": [],
     "prompt_number": 132
    },
    {
     "cell_type": "code",
     "collapsed": false,
     "input": [
      "\n",
      "# What have we got now?\n",
      "\n",
      "############## return value ################################################\n",
      "# Repository.update_file() returns:\n",
      "# {\n",
      "# u'content': <Content [file.md]>, \n",
      "# u'commit': <Commit [Your Name:4e18f28f46188a9dd3bb7603ce8339cf57e5d026]>, \n",
      "# u'ETag': '\"dacf99cb0dde35b6210c1df729df2a4f\"', \n",
      "# u'Last-Modified': u''\n",
      "# }\n",
      "###########################################################################\n",
      "\n",
      "# Another dict! With another Content and Commit in it!\n",
      "# (It makes sense. Updating is a lot like creating.)\n"
     ],
     "language": "python",
     "metadata": {},
     "outputs": [],
     "prompt_number": 133
    },
    {
     "cell_type": "markdown",
     "metadata": {},
     "source": [
      "## Now delete a file\n",
      "It isn't CRUD without the D. (Create Read Update and Delete)"
     ]
    },
    {
     "cell_type": "code",
     "collapsed": false,
     "input": [
      "\n",
      "r.create_file('deleteme.md', 'This file was added via api, but it is doomed.', contents)\n",
      "\n",
      "delete_sha = r.contents('deleteme.md').sha\n",
      "\n",
      "delete_return = r.delete_file('deleteme.md', 'this file was deleted via api', delete_sha)\n",
      "\n",
      "if delete_return:\n",
      "    print('File \\'deleteme.md\\' was created and then deleted.')\n"
     ],
     "language": "python",
     "metadata": {},
     "outputs": [
      {
       "output_type": "stream",
       "stream": "stdout",
       "text": [
        "File 'deleteme.md' was created and then deleted.\n"
       ]
      }
     ],
     "prompt_number": 134
    },
    {
     "cell_type": "code",
     "collapsed": false,
     "input": [
      "\n",
      "# What has happened?\n",
      "\n",
      "############## return value ####################################\n",
      "# Repository.delete_file() returns:\n",
      "# <Commit [Your Name:539ef374984b0ae4809662ae6a198f214135f123]>\n",
      "################################################################\n",
      "\n",
      "# A commit object!\n"
     ],
     "language": "python",
     "metadata": {},
     "outputs": [],
     "prompt_number": 135
    },
    {
     "cell_type": "markdown",
     "metadata": {},
     "source": [
      "## And... trees..."
     ]
    },
    {
     "cell_type": "code",
     "collapsed": false,
     "input": [
      "\n",
      "# And get the tree, because, tree\n",
      "# You can get a tree with a SHA or with a branch name\n",
      "# We didn't make any branches, explicitly, so we're on branch 'master'\n",
      "t = r.tree('master')\n"
     ],
     "language": "python",
     "metadata": {},
     "outputs": [],
     "prompt_number": 136
    },
    {
     "cell_type": "code",
     "collapsed": false,
     "input": [
      "\n",
      "# Finally?\n",
      "\n",
      "############## return value ####################################\n",
      "# Repository.tree() returns:\n",
      "# <Tree [224bc857d84e2ab6743ae7ebf1b85562343e2d39]>\n",
      "################################################################\n",
      "\n",
      "if t:\n",
      "    print('What can be done with a Tree object:')\n",
      "    print('===================================')\n",
      "    public(t)\n"
     ],
     "language": "python",
     "metadata": {},
     "outputs": [
      {
       "output_type": "stream",
       "stream": "stdout",
       "text": [
        "What can be done with a Tree object:\n",
        "===================================\n",
        "etag\n",
        "from_json\n",
        "last_modified\n",
        "ratelimit_remaining\n",
        "recurse\n",
        "refresh\n",
        "sha\n",
        "to_json\n",
        "tree\n"
       ]
      }
     ],
     "prompt_number": 137
    },
    {
     "cell_type": "code",
     "collapsed": false,
     "input": [
      "\n",
      "# Wait wait wait. Tree has a thing that you can do called tree?!\n",
      "\n",
      "# Let's explore.\n",
      "\n",
      "if t:\n",
      "    print('\\nHere is Tree.tree:')\n",
      "    print('=================')\n",
      "    print('It is type: {0}'.format(type(t.tree)))\n",
      "    print('\\nOK, a list. Cool. ... A list of what?')\n",
      "    print('\\nWhen you print the list, it looks like:')\n",
      "    print(t.tree)\n",
      "    print('\\nHmm, the list contains objects of type Hash, neat.')\n",
      "    print('\\nAnd what does it look like if we print a Hash?')\n",
      "    print(t.tree[0])\n",
      "    print('\\nOh. The same.')\n",
      "    print('\\n\\nWhat can be done with a Hash object (one item in the Tree.tree list):')\n",
      "    print('====================================================================')\n",
      "    public(t.tree[0])\n",
      "    "
     ],
     "language": "python",
     "metadata": {},
     "outputs": [
      {
       "output_type": "stream",
       "stream": "stdout",
       "text": [
        "\n",
        "Here is Tree.tree:\n",
        "=================\n",
        "It is type: <type 'list'>\n",
        "\n",
        "OK, a list. Cool. ... A list of what?\n",
        "\n",
        "When you print the list, it looks like:\n",
        "[<Hash [11e1377f4f31293d07a9a8dd3c7108c9e6f49cc1]>, <Hash [83bbf2c2a533d04d12fc25ff60d6d60fb604a182]>]\n",
        "\n",
        "Hmm, the list contains objects of type Hash, neat.\n",
        "\n",
        "And what does it look like if we print a Hash?\n",
        "<Hash [11e1377f4f31293d07a9a8dd3c7108c9e6f49cc1]>\n",
        "\n",
        "Oh. The same.\n",
        "\n",
        "\n",
        "What can be done with a Hash object (one item in the Tree.tree list):\n",
        "====================================================================\n",
        "etag\n",
        "from_json\n",
        "last_modified\n",
        "mode\n",
        "path\n",
        "sha\n",
        "size\n",
        "to_json\n",
        "type\n",
        "url\n"
       ]
      }
     ],
     "prompt_number": 138
    }
   ],
   "metadata": {}
  }
 ]
}